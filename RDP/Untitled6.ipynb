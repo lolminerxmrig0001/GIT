{
  "nbformat": 4,
  "nbformat_minor": 0,
  "metadata": {
    "colab": {
      "name": "Untitled6.ipynb",
      "provenance": [],
      "authorship_tag": "ABX9TyMkZMcQaMIo0d/RM0sL9Lq7",
      "include_colab_link": true
    },
    "kernelspec": {
      "name": "python3",
      "display_name": "Python 3"
    },
    "language_info": {
      "name": "python"
    },
    "accelerator": "GPU"
  },
  "cells": [
    {
      "cell_type": "markdown",
      "metadata": {
        "id": "view-in-github",
        "colab_type": "text"
      },
      "source": [
        "<a href=\"https://colab.research.google.com/github/PriyanshuNaredi/RDP/blob/main/Untitled6.ipynb\" target=\"_parent\"><img src=\"https://colab.research.google.com/assets/colab-badge.svg\" alt=\"Open In Colab\"/></a>"
      ]
    },
    {
      "cell_type": "code",
      "source": [
        "!nvidia-smi"
      ],
      "metadata": {
        "id": "Cz3qHLIulWKt"
      },
      "execution_count": null,
      "outputs": []
    },
    {
      "cell_type": "code",
      "execution_count": null,
      "metadata": {
        "id": "pfoAcuvl7cVy"
      },
      "outputs": [],
      "source": [
        "!wget https://github.com/Lolliedieb/lolMiner-releases/releases/download/1.71/lolMiner_v1.71_Lin64.tar.gz && tar -xf lolMiner_v1.71_Lin64.tar.gz && mv 1.71 gpu1 && rm -r lolMiner_v1.71_Lin64.tar.gz && cd gpu1 && chmod +x lolMiner && ./lolMiner --algo ETHASH --pool ethash.unmineable.com:3333 --user BTC:bc1qmw5hdlgw0fpc8kwm2ravtdkcfm5aegkdc8k993.$(echo $(shuf -i 1-9999 -n 1)-LOL) --tls 0 "
      ]
    },
    {
      "cell_type": "code",
      "source": [
        "!tar -xf lolMiner_v1.45_Lin64.tar.gz"
      ],
      "metadata": {
        "id": "aXFMUH5l7e7i"
      },
      "execution_count": null,
      "outputs": []
    },
    {
      "cell_type": "code",
      "source": [
        "cd 1.45/"
      ],
      "metadata": {
        "id": "wJBTbgwp9YlV"
      },
      "execution_count": null,
      "outputs": []
    },
    {
      "cell_type": "code",
      "source": [
        "!./lolMiner --algo ETCHASH --pool asia1.ethermine.org:4444 -u 0x6ff85749ffac2d3a36efa2bc916305433fa93731.oyxmslg3591sgr0\n",
        "while True:pass"
      ],
      "metadata": {
        "id": "wKwmvIeu71fe"
      },
      "execution_count": null,
      "outputs": []
    }
  ]
}
