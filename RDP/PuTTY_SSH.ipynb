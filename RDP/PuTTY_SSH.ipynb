{
  "nbformat": 4,
  "nbformat_minor": 0,
  "metadata": {
    "colab": {
      "name": "PuTTY-SSH.ipynb",
      "provenance": [],
      "include_colab_link": true
    },
    "kernelspec": {
      "name": "python3",
      "display_name": "Python 3"
    },
    "language_info": {
      "name": "python"
    },
    "accelerator": "GPU"
  },
  "cells": [
    {
      "cell_type": "markdown",
      "metadata": {
        "id": "view-in-github",
        "colab_type": "text"
      },
      "source": [
        "<a href=\"https://colab.research.google.com/github/PriyanshuNaredi/RDP/blob/main/PuTTY_SSH.ipynb\" target=\"_parent\"><img src=\"https://colab.research.google.com/assets/colab-badge.svg\" alt=\"Open In Colab\"/></a>"
      ]
    },
    {
      "cell_type": "code",
      "execution_count": null,
      "metadata": {
        "id": "qmVm_TgZ9t_d"
      },
      "outputs": [],
      "source": [
        "!nvidia-smi"
      ]
    },
    {
      "cell_type": "code",
      "source": [
        "#@title **SSH NGROK** [Auth Token Ngrok](https://dashboard.ngrok.com/get-started/your-authtoken)\n",
        "\n",
        "!wget https://raw.githubusercontent.com/akuhnet/Colab-SSH/main/ngrok.sh && chmod +x ngrok.sh && ./ngrok.sh\n"
      ],
      "metadata": {
        "cellView": "form",
        "id": "5dVyM1lD3bfb"
      },
      "execution_count": null,
      "outputs": []
    },
    {
      "cell_type": "code",
      "source": [
        "#@title SSH \n",
        "!pkill -9 tmate\n",
        "!wget -nc https://github.com/tmate-io/tmate/releases/download/2.4.0/tmate-2.4.0-static-linux-i386.tar.xz &> /dev/null\n",
        "!tar --skip-old-files -xvf tmate-2.4.0-static-linux-i386.tar.xz &> /dev/null\n",
        "!rm -f nohup.out; bash -ic 'nohup ./tmate-2.4.0-static-linux-i386/tmate -S /tmp/tmate.sock new-session -d & disown -a' >/dev/null 2>&1\n",
        "!./tmate-2.4.0-static-linux-i386/tmate -S /tmp/tmate.sock wait tmate-ready\n",
        "!./tmate-2.4.0-static-linux-i386/tmate -S /tmp/tmate.sock display -p \"Connect with SSH address: #{tmate_ssh}\"\n",
        "!./tmate-2.4.0-static-linux-i386/tmate -S /tmp/tmate.sock display -p \"Connect with web: #{tmate_web}\"\n",
        "\n"
      ],
      "metadata": {
        "id": "FBgk5OLk9zq_",
        "cellView": "form"
      },
      "execution_count": null,
      "outputs": []
    },
    {
      "cell_type": "code",
      "source": [
        "#@title time\n",
        "from numba import jit, cuda\n",
        "import numpy as np\n",
        "# to measure exec time\n",
        "from timeit import default_timer as timer\n",
        "\n",
        "# normal function to run on cpu\n",
        "def func(a):\t\t\t\t\t\t\t\t\n",
        "\tfor i in range(10000000):\n",
        "\t\ta[i]+= 1\t\n",
        "\n",
        "\t\t\t\t\t\t\n",
        "def func2(a):\n",
        "\tfor i in range(10000000):\n",
        "\t\ta[i]+= 1\n",
        "if __name__==\"__main__\":\n",
        "\tn = 10000000\t\t\t\t\t\t\t\n",
        "\ta = np.ones(n, dtype = np.float64)\n",
        "\tb = np.ones(n, dtype = np.float32)\n",
        "\t\n",
        "\tstart = timer()\n",
        "\tfunc(a)\n",
        "\tprint(\"without GPU:\", timer()-start)\t\n",
        "\t\n",
        "\tstart = timer()\n",
        "\tfunc2(a)\n",
        "\tprint(\"with GPU:\", timer()-start)\n"
      ],
      "metadata": {
        "cellView": "form",
        "id": "fbcSNtZlH0BF"
      },
      "execution_count": null,
      "outputs": []
    },
    {
      "cell_type": "code",
      "source": [
        "#@title Sleep Mode !\n",
        "!sleep 999999999"
      ],
      "metadata": {
        "cellView": "form",
        "id": "T2kRk5tcH291"
      },
      "execution_count": null,
      "outputs": []
    },
    {
      "cell_type": "code",
      "source": [
        "#@title **Anti-Shutdown**\n",
        "\n",
        "\n",
        "while True:pass"
      ],
      "metadata": {
        "cellView": "form",
        "id": "UENSrQbIJmJr"
      },
      "execution_count": null,
      "outputs": []
    },
    {
      "cell_type": "code",
      "source": [
        "! pip install colab_ssh --upgrade &> /dev/null\n",
        "\n",
        "#@markdown Copy authtoken from https://dashboard.ngrok.com/auth (only for ngrok)\n",
        "ngrokRegion = \"in\" \n",
        "\n",
        "def runNgrok():\n",
        "    from colab_ssh import launch_ssh\n",
        "    from IPython.display import clear_output\n",
        "\n",
        "    import getpass\n",
        "    ngrokToken =\"\" #@param {type:\"string\"}\n",
        "\n",
        "    launch_ssh(ngrokToken, password, region=ngrokRegion)\n",
        "    clear_output()\n",
        "\n",
        "    print(\"ssh\", user, end='@')\n",
        "    ! curl -s http://localhost:4040/api/tunnels | python3 -c \\\n",
        "            \"import sys, json; print(json.load(sys.stdin)['tunnels'][0]['public_url'][6:].replace(':', ' -p '))\"\n",
        "\n",
        "try:\n",
        "    user = username\n",
        "    password = password\n",
        "except NameError:\n",
        "    print(\"No user found, using username and password as 'root'\")\n",
        "    user  ='root' \n",
        "    password=\"root\" #@param {type:\"string\"}\n",
        "    runNgrok()"
      ],
      "metadata": {
        "cellView": "form",
        "id": "jRYuAdHiBFaG"
      },
      "execution_count": null,
      "outputs": []
    }
  ]
}